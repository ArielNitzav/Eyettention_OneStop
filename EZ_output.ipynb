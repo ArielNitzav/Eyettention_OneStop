{
 "cells": [
  {
   "cell_type": "code",
   "execution_count": 3,
   "metadata": {},
   "outputs": [],
   "source": [
    "from EZ.word import word_DVs, word_means\n",
    "from EZ.sentence import Sentence\n",
    "from EZ.fixation import Fixation\n",
    "\n",
    "import os\n",
    "import pandas as pd"
   ]
  },
  {
   "cell_type": "code",
   "execution_count": 4,
   "metadata": {},
   "outputs": [],
   "source": [
    "word_info_df = pd.read_csv('/data/home/shared/onestop/OneStop_v1_20250126/lacclab_processed/ia_Paragraph.csv', engine=\"pyarrow\")\n",
    "word_info_df = word_info_df[word_info_df[\"article_id\"] != 0] # filter out practice article\n",
    "word_info_df = word_info_df[word_info_df[\"repeated_reading_trial\"] == 0] # use only non repeated reading\n",
    "word_info_df = word_info_df[word_info_df[\"question_preview\"] == 0] # use only non question preview cases\n",
    "word_info_df['IA_LABEL'] = word_info_df.IA_LABEL.replace('\\t(.*)', '', regex=True)"
   ]
  },
  {
   "cell_type": "code",
   "execution_count": 5,
   "metadata": {},
   "outputs": [
    {
     "data": {
      "text/html": [
       "<div>\n",
       "<style scoped>\n",
       "    .dataframe tbody tr th:only-of-type {\n",
       "        vertical-align: middle;\n",
       "    }\n",
       "\n",
       "    .dataframe tbody tr th {\n",
       "        vertical-align: top;\n",
       "    }\n",
       "\n",
       "    .dataframe thead th {\n",
       "        text-align: right;\n",
       "    }\n",
       "</style>\n",
       "<table border=\"1\" class=\"dataframe\">\n",
       "  <thead>\n",
       "    <tr style=\"text-align: right;\">\n",
       "      <th></th>\n",
       "      <th>unique_paragraph_id</th>\n",
       "      <th>text_spacing_version</th>\n",
       "      <th>word_length</th>\n",
       "    </tr>\n",
       "  </thead>\n",
       "  <tbody>\n",
       "    <tr>\n",
       "      <th>0</th>\n",
       "      <td>1_10_Adv_1</td>\n",
       "      <td>0</td>\n",
       "      <td>[5, 10, 2, 2, 7, 2, 9, 2, 3, 6, 3, 10, 3, 4, 2...</td>\n",
       "    </tr>\n",
       "    <tr>\n",
       "      <th>1</th>\n",
       "      <td>1_10_Adv_1</td>\n",
       "      <td>1</td>\n",
       "      <td>[5, 10, 2, 2, 7, 2, 9, 2, 3, 6, 3, 10, 3, 4, 2...</td>\n",
       "    </tr>\n",
       "    <tr>\n",
       "      <th>2</th>\n",
       "      <td>1_10_Adv_2</td>\n",
       "      <td>0</td>\n",
       "      <td>[4, 7, 3, 6, 5, 4, 2, 5, 3, 7, 2, 5, 10, 3, 4,...</td>\n",
       "    </tr>\n",
       "    <tr>\n",
       "      <th>3</th>\n",
       "      <td>1_10_Adv_3</td>\n",
       "      <td>0</td>\n",
       "      <td>[6, 3, 8, 3, 10, 3, 1, 5, 5, 4, 4, 9, 2, 3, 6,...</td>\n",
       "    </tr>\n",
       "    <tr>\n",
       "      <th>4</th>\n",
       "      <td>1_10_Adv_4</td>\n",
       "      <td>0</td>\n",
       "      <td>[7, 2, 4, 6, 11, 7, 4, 4, 4, 9, 4, 11, 1, 5, 5...</td>\n",
       "    </tr>\n",
       "    <tr>\n",
       "      <th>...</th>\n",
       "      <td>...</td>\n",
       "      <td>...</td>\n",
       "      <td>...</td>\n",
       "    </tr>\n",
       "    <tr>\n",
       "      <th>334</th>\n",
       "      <td>3_9_Ele_1</td>\n",
       "      <td>0</td>\n",
       "      <td>[3, 5, 4, 5, 4, 1, 10, 3, 7, 2, 3, 5, 4, 7, 2,...</td>\n",
       "    </tr>\n",
       "    <tr>\n",
       "      <th>335</th>\n",
       "      <td>3_9_Ele_2</td>\n",
       "      <td>0</td>\n",
       "      <td>[3, 2, 6, 6, 1, 16, 12, 6, 3, 6, 2, 5, 2, 5, 2...</td>\n",
       "    </tr>\n",
       "    <tr>\n",
       "      <th>336</th>\n",
       "      <td>3_9_Ele_3</td>\n",
       "      <td>0</td>\n",
       "      <td>[5, 4, 3, 7, 3, 7, 3, 9, 2, 4, 5, 6, 3, 3, 2, ...</td>\n",
       "    </tr>\n",
       "    <tr>\n",
       "      <th>337</th>\n",
       "      <td>3_9_Ele_3</td>\n",
       "      <td>1</td>\n",
       "      <td>[5, 4, 3, 7, 3, 7, 3, 9, 2, 4, 5, 6, 3, 3, 2, ...</td>\n",
       "    </tr>\n",
       "    <tr>\n",
       "      <th>338</th>\n",
       "      <td>3_9_Ele_4</td>\n",
       "      <td>0</td>\n",
       "      <td>[2, 5, 5, 6, 5, 8, 2, 5, 9, 4, 3, 6, 5, 4, 8, ...</td>\n",
       "    </tr>\n",
       "  </tbody>\n",
       "</table>\n",
       "<p>339 rows × 3 columns</p>\n",
       "</div>"
      ],
      "text/plain": [
       "    unique_paragraph_id  text_spacing_version  \\\n",
       "0            1_10_Adv_1                     0   \n",
       "1            1_10_Adv_1                     1   \n",
       "2            1_10_Adv_2                     0   \n",
       "3            1_10_Adv_3                     0   \n",
       "4            1_10_Adv_4                     0   \n",
       "..                  ...                   ...   \n",
       "334           3_9_Ele_1                     0   \n",
       "335           3_9_Ele_2                     0   \n",
       "336           3_9_Ele_3                     0   \n",
       "337           3_9_Ele_3                     1   \n",
       "338           3_9_Ele_4                     0   \n",
       "\n",
       "                                           word_length  \n",
       "0    [5, 10, 2, 2, 7, 2, 9, 2, 3, 6, 3, 10, 3, 4, 2...  \n",
       "1    [5, 10, 2, 2, 7, 2, 9, 2, 3, 6, 3, 10, 3, 4, 2...  \n",
       "2    [4, 7, 3, 6, 5, 4, 2, 5, 3, 7, 2, 5, 10, 3, 4,...  \n",
       "3    [6, 3, 8, 3, 10, 3, 1, 5, 5, 4, 4, 9, 2, 3, 6,...  \n",
       "4    [7, 2, 4, 6, 11, 7, 4, 4, 4, 9, 4, 11, 1, 5, 5...  \n",
       "..                                                 ...  \n",
       "334  [3, 5, 4, 5, 4, 1, 10, 3, 7, 2, 3, 5, 4, 7, 2,...  \n",
       "335  [3, 2, 6, 6, 1, 16, 12, 6, 3, 6, 2, 5, 2, 5, 2...  \n",
       "336  [5, 4, 3, 7, 3, 7, 3, 9, 2, 4, 5, 6, 3, 3, 2, ...  \n",
       "337  [5, 4, 3, 7, 3, 7, 3, 9, 2, 4, 5, 6, 3, 3, 2, ...  \n",
       "338  [2, 5, 5, 6, 5, 8, 2, 5, 9, 4, 3, 6, 5, 4, 8, ...  \n",
       "\n",
       "[339 rows x 3 columns]"
      ]
     },
     "execution_count": 5,
     "metadata": {},
     "output_type": "execute_result"
    }
   ],
   "source": [
    "paragraphs = word_info_df.groupby(['unique_paragraph_id', 'text_spacing_version'])['word_length'].apply(list).reset_index()\n",
    "paragraphs"
   ]
  },
  {
   "cell_type": "code",
   "execution_count": 6,
   "metadata": {},
   "outputs": [],
   "source": [
    "# Define the folder path\n",
    "folder_path = \"results/Eyettention\"\n",
    "\n",
    "# Get a list of all CSV files in the folder\n",
    "csv_files = [f for f in os.listdir(folder_path) if f.endswith('.csv')]\n",
    "\n",
    "# Dictionary to store DataFrames\n",
    "eyettention_outputs = {}\n",
    "\n",
    "# Loop through each CSV file and load it into a DataFrame\n",
    "for file in csv_files:\n",
    "    file_path = os.path.join(folder_path, file)\n",
    "    df = pd.read_csv(file_path)\n",
    "    eyettention_outputs[file] = df  # Store DataFrame in dictionary with filename as key"
   ]
  },
  {
   "cell_type": "code",
   "execution_count": 7,
   "metadata": {},
   "outputs": [],
   "source": [
    "paragraphs_dict = {}\n",
    "for i, row in paragraphs.iterrows():\n",
    "    paragraphs_dict[(row[\"unique_paragraph_id\"], row[\"text_spacing_version\"])] = Sentence(i, row[\"word_length\"])"
   ]
  },
  {
   "cell_type": "code",
   "execution_count": 8,
   "metadata": {},
   "outputs": [],
   "source": [
    "def split_df_on_zero(df, column_name='fix_id'):\n",
    "    # Find indices where the column equals 0\n",
    "    df = df.reset_index()\n",
    "    split_indices = df.index[df[column_name] == 0].tolist()\n",
    "    # Add end index\n",
    "    split_indices.append(len(df))\n",
    "    # Create a list of DataFrames\n",
    "    dfs = [df.iloc[split_indices[i]:split_indices[i+1]].reset_index(drop=True) for i in range(len(split_indices)-1)]\n",
    "    return dfs"
   ]
  },
  {
   "cell_type": "code",
   "execution_count": 9,
   "metadata": {},
   "outputs": [],
   "source": [
    "fold_dict = {}\n",
    "for fold_output in sorted(eyettention_outputs.keys()):\n",
    "    processed_fold = {}\n",
    "    output_df = eyettention_outputs[fold_output]\n",
    "    grouped_dfs = {key: group for key, group in output_df.groupby(['unique_paragraph_id', 'text_spacing_version'])}\n",
    "    grouped_dfs = {key: split_df_on_zero(group) for key, group in grouped_dfs.items()}\n",
    "    for key, group in grouped_dfs.items():\n",
    "        processed_group = []\n",
    "        for df in group:\n",
    "            processed_df = []\n",
    "            for i, row in df.iterrows():\n",
    "                processed_df.append(Fixation(row[\"sp_fix_dur\"], row[\"fix_id\"], row[\"sp_fix_pos\"]))\n",
    "            processed_group.append(processed_group)\n",
    "        processed_fold[key] = processed_group\n",
    "    fold_dict[fold_output] = processed_fold\n"
   ]
  },
  {
   "cell_type": "code",
   "execution_count": null,
   "metadata": {},
   "outputs": [
    {
     "ename": "AttributeError",
     "evalue": "'list' object has no attribute 'word'",
     "output_type": "error",
     "traceback": [
      "\u001b[0;31m---------------------------------------------------------------------------\u001b[0m",
      "\u001b[0;31mAttributeError\u001b[0m                            Traceback (most recent call last)",
      "Cell \u001b[0;32mIn[11], line 5\u001b[0m\n\u001b[1;32m      3\u001b[0m paragraph \u001b[38;5;241m=\u001b[39m paragraphs_dict[combo]\n\u001b[1;32m      4\u001b[0m \u001b[38;5;28;01mfor\u001b[39;00m fix_list \u001b[38;5;129;01min\u001b[39;00m fix_lists:\n\u001b[0;32m----> 5\u001b[0m     adjusted_paragraph \u001b[38;5;241m=\u001b[39m \u001b[43mword_DVs\u001b[49m\u001b[43m(\u001b[49m\u001b[43mparagraph\u001b[49m\u001b[43m,\u001b[49m\u001b[43m \u001b[49m\u001b[43mfix_list\u001b[49m\u001b[43m)\u001b[49m\n\u001b[1;32m      6\u001b[0m     \u001b[38;5;28mprint\u001b[39m(\u001b[38;5;124m'\u001b[39m\u001b[38;5;124mHi\u001b[39m\u001b[38;5;124m'\u001b[39m)\n\u001b[1;32m      7\u001b[0m     \u001b[38;5;28;01mbreak\u001b[39;00m\n",
      "File \u001b[0;32m~/Eyettention/EZ/word.py:61\u001b[0m, in \u001b[0;36mword_DVs\u001b[0;34m(text, trace)\u001b[0m\n\u001b[1;32m     58\u001b[0m w \u001b[38;5;241m=\u001b[39m Word(\u001b[38;5;28mlen\u001b[39m(text\u001b[38;5;241m.\u001b[39mget(i)\u001b[38;5;241m.\u001b[39mdv\u001b[38;5;241m.\u001b[39mdistSFD))  \u001b[38;5;66;03m# Initialize word class for DVs\u001b[39;00m\n\u001b[1;32m     60\u001b[0m \u001b[38;5;66;03m# Count total number of fixations:\u001b[39;00m\n\u001b[0;32m---> 61\u001b[0m w\u001b[38;5;241m.\u001b[39mdv\u001b[38;5;241m.\u001b[39mNFixations \u001b[38;5;241m=\u001b[39m \u001b[38;5;28;43msum\u001b[39;49m\u001b[43m(\u001b[49m\u001b[38;5;241;43m1\u001b[39;49m\u001b[43m \u001b[49m\u001b[38;5;28;43;01mfor\u001b[39;49;00m\u001b[43m \u001b[49m\u001b[43mfixation\u001b[49m\u001b[43m \u001b[49m\u001b[38;5;129;43;01min\u001b[39;49;00m\u001b[43m \u001b[49m\u001b[43mtrace\u001b[49m\u001b[43m \u001b[49m\u001b[38;5;28;43;01mif\u001b[39;49;00m\u001b[43m \u001b[49m\u001b[43mfixation\u001b[49m\u001b[38;5;241;43m.\u001b[39;49m\u001b[43mword\u001b[49m\u001b[43m \u001b[49m\u001b[38;5;241;43m==\u001b[39;49m\u001b[43m \u001b[49m\u001b[43mi\u001b[49m\u001b[43m)\u001b[49m\n\u001b[1;32m     63\u001b[0m \u001b[38;5;66;03m# Count number of first-pass fixations:\u001b[39;00m\n\u001b[1;32m     64\u001b[0m \u001b[38;5;28;01mfor\u001b[39;00m j, fixation \u001b[38;5;129;01min\u001b[39;00m \u001b[38;5;28menumerate\u001b[39m(trace):\n",
      "File \u001b[0;32m~/Eyettention/EZ/word.py:61\u001b[0m, in \u001b[0;36m<genexpr>\u001b[0;34m(.0)\u001b[0m\n\u001b[1;32m     58\u001b[0m w \u001b[38;5;241m=\u001b[39m Word(\u001b[38;5;28mlen\u001b[39m(text\u001b[38;5;241m.\u001b[39mget(i)\u001b[38;5;241m.\u001b[39mdv\u001b[38;5;241m.\u001b[39mdistSFD))  \u001b[38;5;66;03m# Initialize word class for DVs\u001b[39;00m\n\u001b[1;32m     60\u001b[0m \u001b[38;5;66;03m# Count total number of fixations:\u001b[39;00m\n\u001b[0;32m---> 61\u001b[0m w\u001b[38;5;241m.\u001b[39mdv\u001b[38;5;241m.\u001b[39mNFixations \u001b[38;5;241m=\u001b[39m \u001b[38;5;28msum\u001b[39m(\u001b[38;5;241m1\u001b[39m \u001b[38;5;28;01mfor\u001b[39;00m fixation \u001b[38;5;129;01min\u001b[39;00m trace \u001b[38;5;28;01mif\u001b[39;00m \u001b[43mfixation\u001b[49m\u001b[38;5;241;43m.\u001b[39;49m\u001b[43mword\u001b[49m \u001b[38;5;241m==\u001b[39m i)\n\u001b[1;32m     63\u001b[0m \u001b[38;5;66;03m# Count number of first-pass fixations:\u001b[39;00m\n\u001b[1;32m     64\u001b[0m \u001b[38;5;28;01mfor\u001b[39;00m j, fixation \u001b[38;5;129;01min\u001b[39;00m \u001b[38;5;28menumerate\u001b[39m(trace):\n",
      "\u001b[0;31mAttributeError\u001b[0m: 'list' object has no attribute 'word'"
     ]
    },
    {
     "ename": "AttributeError",
     "evalue": "'list' object has no attribute 'word'",
     "output_type": "error",
     "traceback": [
      "\u001b[0;31m---------------------------------------------------------------------------\u001b[0m",
      "\u001b[0;31mAttributeError\u001b[0m                            Traceback (most recent call last)",
      "Cell \u001b[0;32mIn[12], line 5\u001b[0m\n\u001b[1;32m      3\u001b[0m paragraph \u001b[38;5;241m=\u001b[39m paragraphs_dict[combo]\n\u001b[1;32m      4\u001b[0m \u001b[38;5;28;01mfor\u001b[39;00m fix_list \u001b[38;5;129;01min\u001b[39;00m fix_lists:\n\u001b[0;32m----> 5\u001b[0m     adjusted_paragraph \u001b[38;5;241m=\u001b[39m \u001b[43mword_DVs\u001b[49m\u001b[43m(\u001b[49m\u001b[43mparagraph\u001b[49m\u001b[43m,\u001b[49m\u001b[43m \u001b[49m\u001b[43mfix_list\u001b[49m\u001b[43m)\u001b[49m\n\u001b[1;32m      6\u001b[0m     \u001b[38;5;28mprint\u001b[39m(\u001b[38;5;124m'\u001b[39m\u001b[38;5;124mHi\u001b[39m\u001b[38;5;124m'\u001b[39m)\n\u001b[1;32m      7\u001b[0m     \u001b[38;5;28;01mbreak\u001b[39;00m\n",
      "File \u001b[0;32m~/Eyettention/EZ/word.py:61\u001b[0m, in \u001b[0;36mword_DVs\u001b[0;34m(text, trace)\u001b[0m\n\u001b[1;32m     58\u001b[0m w \u001b[38;5;241m=\u001b[39m Word(\u001b[38;5;28mlen\u001b[39m(text\u001b[38;5;241m.\u001b[39mget(i)\u001b[38;5;241m.\u001b[39mdv\u001b[38;5;241m.\u001b[39mdistSFD))  \u001b[38;5;66;03m# Initialize word class for DVs\u001b[39;00m\n\u001b[1;32m     60\u001b[0m \u001b[38;5;66;03m# Count total number of fixations:\u001b[39;00m\n\u001b[0;32m---> 61\u001b[0m w\u001b[38;5;241m.\u001b[39mdv\u001b[38;5;241m.\u001b[39mNFixations \u001b[38;5;241m=\u001b[39m \u001b[38;5;28;43msum\u001b[39;49m\u001b[43m(\u001b[49m\u001b[38;5;241;43m1\u001b[39;49m\u001b[43m \u001b[49m\u001b[38;5;28;43;01mfor\u001b[39;49;00m\u001b[43m \u001b[49m\u001b[43mfixation\u001b[49m\u001b[43m \u001b[49m\u001b[38;5;129;43;01min\u001b[39;49;00m\u001b[43m \u001b[49m\u001b[43mtrace\u001b[49m\u001b[43m \u001b[49m\u001b[38;5;28;43;01mif\u001b[39;49;00m\u001b[43m \u001b[49m\u001b[43mfixation\u001b[49m\u001b[38;5;241;43m.\u001b[39;49m\u001b[43mword\u001b[49m\u001b[43m \u001b[49m\u001b[38;5;241;43m==\u001b[39;49m\u001b[43m \u001b[49m\u001b[43mi\u001b[49m\u001b[43m)\u001b[49m\n\u001b[1;32m     63\u001b[0m \u001b[38;5;66;03m# Count number of first-pass fixations:\u001b[39;00m\n\u001b[1;32m     64\u001b[0m \u001b[38;5;28;01mfor\u001b[39;00m j, fixation \u001b[38;5;129;01min\u001b[39;00m \u001b[38;5;28menumerate\u001b[39m(trace):\n",
      "File \u001b[0;32m~/Eyettention/EZ/word.py:61\u001b[0m, in \u001b[0;36m<genexpr>\u001b[0;34m(.0)\u001b[0m\n\u001b[1;32m     58\u001b[0m w \u001b[38;5;241m=\u001b[39m Word(\u001b[38;5;28mlen\u001b[39m(text\u001b[38;5;241m.\u001b[39mget(i)\u001b[38;5;241m.\u001b[39mdv\u001b[38;5;241m.\u001b[39mdistSFD))  \u001b[38;5;66;03m# Initialize word class for DVs\u001b[39;00m\n\u001b[1;32m     60\u001b[0m \u001b[38;5;66;03m# Count total number of fixations:\u001b[39;00m\n\u001b[0;32m---> 61\u001b[0m w\u001b[38;5;241m.\u001b[39mdv\u001b[38;5;241m.\u001b[39mNFixations \u001b[38;5;241m=\u001b[39m \u001b[38;5;28msum\u001b[39m(\u001b[38;5;241m1\u001b[39m \u001b[38;5;28;01mfor\u001b[39;00m fixation \u001b[38;5;129;01min\u001b[39;00m trace \u001b[38;5;28;01mif\u001b[39;00m \u001b[43mfixation\u001b[49m\u001b[38;5;241;43m.\u001b[39;49m\u001b[43mword\u001b[49m \u001b[38;5;241m==\u001b[39m i)\n\u001b[1;32m     63\u001b[0m \u001b[38;5;66;03m# Count number of first-pass fixations:\u001b[39;00m\n\u001b[1;32m     64\u001b[0m \u001b[38;5;28;01mfor\u001b[39;00m j, fixation \u001b[38;5;129;01min\u001b[39;00m \u001b[38;5;28menumerate\u001b[39m(trace):\n",
      "\u001b[0;31mAttributeError\u001b[0m: 'list' object has no attribute 'word'"
     ]
    },
    {
     "ename": "AttributeError",
     "evalue": "'list' object has no attribute 'word'",
     "output_type": "error",
     "traceback": [
      "\u001b[0;31m---------------------------------------------------------------------------\u001b[0m",
      "\u001b[0;31mAttributeError\u001b[0m                            Traceback (most recent call last)",
      "Cell \u001b[0;32mIn[13], line 5\u001b[0m\n\u001b[1;32m      3\u001b[0m paragraph \u001b[38;5;241m=\u001b[39m paragraphs_dict[combo]\n\u001b[1;32m      4\u001b[0m \u001b[38;5;28;01mfor\u001b[39;00m fix_list \u001b[38;5;129;01min\u001b[39;00m fix_lists:\n\u001b[0;32m----> 5\u001b[0m     adjusted_paragraph \u001b[38;5;241m=\u001b[39m \u001b[43mword_DVs\u001b[49m\u001b[43m(\u001b[49m\u001b[43mparagraph\u001b[49m\u001b[43m,\u001b[49m\u001b[43m \u001b[49m\u001b[43mfix_list\u001b[49m\u001b[43m)\u001b[49m\n\u001b[1;32m      6\u001b[0m     \u001b[38;5;28mprint\u001b[39m(\u001b[38;5;124m'\u001b[39m\u001b[38;5;124mHi\u001b[39m\u001b[38;5;124m'\u001b[39m)\n\u001b[1;32m      7\u001b[0m     \u001b[38;5;28;01mbreak\u001b[39;00m\n",
      "File \u001b[0;32m~/Eyettention/EZ/word.py:61\u001b[0m, in \u001b[0;36mword_DVs\u001b[0;34m(text, trace)\u001b[0m\n\u001b[1;32m     58\u001b[0m w \u001b[38;5;241m=\u001b[39m Word(\u001b[38;5;28mlen\u001b[39m(text\u001b[38;5;241m.\u001b[39mget(i)\u001b[38;5;241m.\u001b[39mdv\u001b[38;5;241m.\u001b[39mdistSFD))  \u001b[38;5;66;03m# Initialize word class for DVs\u001b[39;00m\n\u001b[1;32m     60\u001b[0m \u001b[38;5;66;03m# Count total number of fixations:\u001b[39;00m\n\u001b[0;32m---> 61\u001b[0m w\u001b[38;5;241m.\u001b[39mdv\u001b[38;5;241m.\u001b[39mNFixations \u001b[38;5;241m=\u001b[39m \u001b[38;5;28;43msum\u001b[39;49m\u001b[43m(\u001b[49m\u001b[38;5;241;43m1\u001b[39;49m\u001b[43m \u001b[49m\u001b[38;5;28;43;01mfor\u001b[39;49;00m\u001b[43m \u001b[49m\u001b[43mfixation\u001b[49m\u001b[43m \u001b[49m\u001b[38;5;129;43;01min\u001b[39;49;00m\u001b[43m \u001b[49m\u001b[43mtrace\u001b[49m\u001b[43m \u001b[49m\u001b[38;5;28;43;01mif\u001b[39;49;00m\u001b[43m \u001b[49m\u001b[43mfixation\u001b[49m\u001b[38;5;241;43m.\u001b[39;49m\u001b[43mword\u001b[49m\u001b[43m \u001b[49m\u001b[38;5;241;43m==\u001b[39;49m\u001b[43m \u001b[49m\u001b[43mi\u001b[49m\u001b[43m)\u001b[49m\n\u001b[1;32m     63\u001b[0m \u001b[38;5;66;03m# Count number of first-pass fixations:\u001b[39;00m\n\u001b[1;32m     64\u001b[0m \u001b[38;5;28;01mfor\u001b[39;00m j, fixation \u001b[38;5;129;01min\u001b[39;00m \u001b[38;5;28menumerate\u001b[39m(trace):\n",
      "File \u001b[0;32m~/Eyettention/EZ/word.py:61\u001b[0m, in \u001b[0;36m<genexpr>\u001b[0;34m(.0)\u001b[0m\n\u001b[1;32m     58\u001b[0m w \u001b[38;5;241m=\u001b[39m Word(\u001b[38;5;28mlen\u001b[39m(text\u001b[38;5;241m.\u001b[39mget(i)\u001b[38;5;241m.\u001b[39mdv\u001b[38;5;241m.\u001b[39mdistSFD))  \u001b[38;5;66;03m# Initialize word class for DVs\u001b[39;00m\n\u001b[1;32m     60\u001b[0m \u001b[38;5;66;03m# Count total number of fixations:\u001b[39;00m\n\u001b[0;32m---> 61\u001b[0m w\u001b[38;5;241m.\u001b[39mdv\u001b[38;5;241m.\u001b[39mNFixations \u001b[38;5;241m=\u001b[39m \u001b[38;5;28msum\u001b[39m(\u001b[38;5;241m1\u001b[39m \u001b[38;5;28;01mfor\u001b[39;00m fixation \u001b[38;5;129;01min\u001b[39;00m trace \u001b[38;5;28;01mif\u001b[39;00m \u001b[43mfixation\u001b[49m\u001b[38;5;241;43m.\u001b[39;49m\u001b[43mword\u001b[49m \u001b[38;5;241m==\u001b[39m i)\n\u001b[1;32m     63\u001b[0m \u001b[38;5;66;03m# Count number of first-pass fixations:\u001b[39;00m\n\u001b[1;32m     64\u001b[0m \u001b[38;5;28;01mfor\u001b[39;00m j, fixation \u001b[38;5;129;01min\u001b[39;00m \u001b[38;5;28menumerate\u001b[39m(trace):\n",
      "\u001b[0;31mAttributeError\u001b[0m: 'list' object has no attribute 'word'"
     ]
    }
   ],
   "source": [
    "for file_name, combo_dict in fold_dict.items():\n",
    "    for combo, fix_lists in combo_dict.items():\n",
    "        paragraph = paragraphs_dict[combo]\n",
    "        for fix_list in fix_lists:\n",
    "            adjusted_paragraph = word_DVs(paragraph, fix_list)\n",
    "            print('Hi')\n",
    "            break\n",
    "        break\n",
    "    break"
   ]
  },
  {
   "cell_type": "code",
   "execution_count": null,
   "metadata": {},
   "outputs": [],
   "source": []
  }
 ],
 "metadata": {
  "kernelspec": {
   "display_name": "onestop_eye",
   "language": "python",
   "name": "python3"
  },
  "language_info": {
   "codemirror_mode": {
    "name": "ipython",
    "version": 3
   },
   "file_extension": ".py",
   "mimetype": "text/x-python",
   "name": "python",
   "nbconvert_exporter": "python",
   "pygments_lexer": "ipython3",
   "version": "3.8.20"
  }
 },
 "nbformat": 4,
 "nbformat_minor": 2
}
