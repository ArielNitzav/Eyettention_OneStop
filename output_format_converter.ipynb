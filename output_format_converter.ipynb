{
 "cells": [
  {
   "cell_type": "code",
   "execution_count": 9,
   "metadata": {},
   "outputs": [],
   "source": [
    "import pandas as pd\n",
    "import numpy as np"
   ]
  },
  {
   "cell_type": "markdown",
   "metadata": {},
   "source": [
    "# Fixations"
   ]
  },
  {
   "cell_type": "code",
   "execution_count": 8,
   "metadata": {},
   "outputs": [],
   "source": [
    "def update_format_fix(df):\n",
    "    # Rename columns\n",
    "    df = df.rename(columns={\n",
    "        \"fix_id\": \"CURRENT_FIX_INDEX\",\n",
    "        \"sp_fix_dur\": \"CURRENT_FIX_DURATION\",\n",
    "        \"sp_fix_pos\": \"CURRENT_FIX_INTEREST_AREA_INDEX\",\n",
    "        \"repeat\": \"repeats\",\n",
    "        \"unique_paragraph_id\": \"unique_paragraph_id\",\n",
    "        \"text_spacing_version\": \"text_spacing_version\"\n",
    "    })\n",
    "\n",
    "    df[\"position\"] = [np.nan]*len(df)\n",
    "\n",
    "    # Reorder columns\n",
    "    column_order = [\n",
    "        \"CURRENT_FIX_INDEX\", \"CURRENT_FIX_DURATION\", \"position\",\n",
    "        \"CURRENT_FIX_INTEREST_AREA_INDEX\", \"unique_paragraph_id\", \"text_spacing_version\", \"repeats\"\n",
    "    ]\n",
    "    df = df[column_order]\n",
    "    \n",
    "    return df"
   ]
  },
  {
   "cell_type": "code",
   "execution_count": 11,
   "metadata": {},
   "outputs": [
    {
     "name": "stdout",
     "output_type": "stream",
     "text": [
      "Finished updating fold 0\n",
      "Finished updating fold 1\n",
      "Finished updating fold 2\n",
      "Finished updating fold 3\n",
      "Finished updating fold 4\n",
      "Finished updating fold 5\n",
      "Finished updating fold 6\n",
      "Finished updating fold 7\n",
      "Finished updating fold 8\n",
      "Finished updating fold 9\n"
     ]
    }
   ],
   "source": [
    "for i in range(10):\n",
    "    # Load the CSV file\n",
    "    df = update_format_fix(pd.read_csv(f\"results/Eyettention/full_eyettention_output_fold_{i}.csv\"))\n",
    "    # Save transformed CSV\n",
    "    df.to_csv(f\"results/fixationReports/full_eyettention_output_fold_{i}.csv\", index=False)\n",
    "    \n",
    "    print(f\"Finished updating fold {i}\")"
   ]
  },
  {
   "cell_type": "markdown",
   "metadata": {},
   "source": [
    "# IA"
   ]
  },
  {
   "cell_type": "code",
   "execution_count": 22,
   "metadata": {},
   "outputs": [],
   "source": [
    "def update_format_ia(df):\n",
    "    # Define the column mapping\n",
    "    EYE_MEASURES_TRANSLATION_DICT = {\n",
    "        \"SFD\": \"IA_SINGLE_FIXATION_DURATION\",\n",
    "        \"FFD\": \"IA_FIRST_FIXATION_DURATION\",\n",
    "        \"GD\": \"IA_FIRST_RUN_DWELL_TIME\",\n",
    "        \"TT\": \"IA_DWELL_TIME\",\n",
    "        \"PrF\": \"probability_of_fixating\",\n",
    "        \"Pr1\": \"probability_of_fixating_once\",\n",
    "        \"Pr2\": \"probability_of_fixating_two_or_more_times\",\n",
    "        \"NFixations\": \"IA_FIXATION_COUNT\",\n",
    "        \"NRegIn\": \"IA_REGRESSION_IN_COUNT\",\n",
    "        \"NRegOutFull\": \"IA_REGRESSION_OUT_FULL_COUNT\",\n",
    "        \"NRegOut\": \"IA_REGRESSION_OUT_COUNT\",\n",
    "        \"FirstFixProg\": \"IA_FIRST_FIX_PROGRESSIVE\",\n",
    "        \"PrS\": \"IA_SKIP\",\n",
    "    }\n",
    "    \n",
    "    # Rename columns\n",
    "    df = df.rename(columns=EYE_MEASURES_TRANSLATION_DICT)\n",
    "    \n",
    "    # Compute total_skip\n",
    "    df[\"total_skip\"] = 1 - df[\"probability_of_fixating\"]\n",
    "\n",
    "    # calculate text_index\n",
    "    df[\"text_index\"] = (\n",
    "        df[\"IA_ID\"].astype(int) < df[\"IA_ID\"].astype(int).shift(1)\n",
    "    ).cumsum()\n",
    "    \n",
    "    # Select and reorder the columns\n",
    "    columns_to_keep = [\n",
    "        \"IA_SINGLE_FIXATION_DURATION\", \"IA_FIRST_FIXATION_DURATION\", \"IA_FIRST_RUN_DWELL_TIME\", \"IA_DWELL_TIME\", \"GP\", \n",
    "        \"probability_of_fixating\", \"probability_of_fixating_once\", \"probability_of_fixating_two_or_more_times\", \"IA_SKIP\", \n",
    "        \"IA_REGRESSION_IN_COUNT\", \"IA_REGRESSION_OUT_COUNT\", \"IA_REGRESSION_OUT_FULL_COUNT\", \"FirstPassGD\", \"FirstPassFFD\", \n",
    "        \"IA_FIRST_FIX_PROGRESSIVE\", \"IA_FIXATION_COUNT\", \"IA_ID\", \"text_index\", \"unique_paragraph_id\", \"text_spacing_version\", \"total_skip\"\n",
    "    ]\n",
    "    \n",
    "    df = df[columns_to_keep]\n",
    "    \n",
    "    return df\n"
   ]
  },
  {
   "cell_type": "code",
   "execution_count": 23,
   "metadata": {},
   "outputs": [
    {
     "name": "stdout",
     "output_type": "stream",
     "text": [
      "Finished updating fold 0\n",
      "Finished updating fold 1\n",
      "Finished updating fold 2\n",
      "Finished updating fold 3\n",
      "Finished updating fold 4\n",
      "Finished updating fold 5\n",
      "Finished updating fold 6\n",
      "Finished updating fold 7\n",
      "Finished updating fold 8\n",
      "Finished updating fold 9\n"
     ]
    }
   ],
   "source": [
    "for i in range(10):\n",
    "    # Load the CSV file\n",
    "    df = update_format_ia(pd.read_csv(f\"ln_shared_data/Eyettention/iaReports/full_eyettention_output_fold_{i}.csv\"))\n",
    "    # Save transformed CSV\n",
    "    df.to_csv(f\"results/iaReports/full_eyettention_output_fold_{i}.csv\", index=False)\n",
    "    \n",
    "    print(f\"Finished updating fold {i}\")"
   ]
  }
 ],
 "metadata": {
  "kernelspec": {
   "display_name": "onestop_eye",
   "language": "python",
   "name": "python3"
  },
  "language_info": {
   "codemirror_mode": {
    "name": "ipython",
    "version": 3
   },
   "file_extension": ".py",
   "mimetype": "text/x-python",
   "name": "python",
   "nbconvert_exporter": "python",
   "pygments_lexer": "ipython3",
   "version": "3.8.20"
  }
 },
 "nbformat": 4,
 "nbformat_minor": 2
}
